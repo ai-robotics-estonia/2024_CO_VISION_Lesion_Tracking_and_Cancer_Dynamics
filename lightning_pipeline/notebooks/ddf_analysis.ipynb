{
 "cells": [
  {
   "cell_type": "code",
   "execution_count": 1,
   "id": "b9b3a79e-2efb-466e-945e-28478ac768f1",
   "metadata": {},
   "outputs": [],
   "source": [
    "import torch\n",
    "import numpy as np\n",
    "import nibabel as nib"
   ]
  },
  {
   "cell_type": "code",
   "execution_count": 23,
   "id": "677935be-a7ca-4060-964f-97e73c19976a",
   "metadata": {},
   "outputs": [],
   "source": [
    "from einops import rearrange"
   ]
  },
  {
   "cell_type": "code",
   "execution_count": 24,
   "id": "69c87bb3-de8c-40c5-80b2-5125647f66be",
   "metadata": {},
   "outputs": [],
   "source": [
    "from torch.nn.functional import grid_sample"
   ]
  },
  {
   "cell_type": "code",
   "execution_count": 16,
   "id": "cc4acc91-7bb5-4aa8-b018-c7204f337c5e",
   "metadata": {},
   "outputs": [],
   "source": [
    "fix_kpts_csv = '/gpfs/space/projects/BetterMedicine/illia/bm-ai-pipelines/data/datasets/TUH/nifti_subset_reorient_false/00a49d80-12d7-eefe-c63b-0354c24aefae/fixed_kpts.csv'\n",
    "mov_kpts_csv = '/gpfs/space/projects/BetterMedicine/illia/bm-ai-pipelines/data/datasets/TUH/nifti_subset_reorient_false/00a49d80-12d7-eefe-c63b-0354c24aefae/moving_kpts.csv'\n",
    "disp_npy = '/gpfs/space/projects/BetterMedicine/illia/bm-ai-pipelines/data/datasets/TUH/nifti_subset_reorient_false/00a49d80-12d7-eefe-c63b-0354c24aefae/displacement.npy'\n"
   ]
  },
  {
   "cell_type": "code",
   "execution_count": 6,
   "id": "cdf1f27a-f9db-4f14-9218-c311b2491857",
   "metadata": {},
   "outputs": [],
   "source": [
    "fix_kpts = np.loadtxt(fix_kpts_csv, delimiter=',')\n",
    "mov_kpts = np.loadtxt(mov_kpts_csv, delimiter=',')\n",
    "\n",
    "fix_kpts = fix_kpts[None, :]\n",
    "mov_kpts = mov_kpts[None, :]"
   ]
  },
  {
   "cell_type": "code",
   "execution_count": 7,
   "id": "05977dfe-fffa-4cd1-bbe4-d40f1fa3274d",
   "metadata": {},
   "outputs": [
    {
     "data": {
      "text/plain": [
       "(1, 2303, 3)"
      ]
     },
     "execution_count": 7,
     "metadata": {},
     "output_type": "execute_result"
    }
   ],
   "source": [
    "fix_kpts.shape"
   ]
  },
  {
   "cell_type": "code",
   "execution_count": 8,
   "id": "8e196720-1c57-45c1-bd0e-c4d0f1032112",
   "metadata": {},
   "outputs": [
    {
     "data": {
      "text/plain": [
       "(1, 2303, 3)"
      ]
     },
     "execution_count": 8,
     "metadata": {},
     "output_type": "execute_result"
    }
   ],
   "source": [
    "mov_kpts.shape"
   ]
  },
  {
   "cell_type": "code",
   "execution_count": 17,
   "id": "3b860e7c-552e-4a07-bdcb-c686f139bd73",
   "metadata": {},
   "outputs": [],
   "source": [
    "disp_npy = np.load(disp_npy)"
   ]
  },
  {
   "cell_type": "code",
   "execution_count": 20,
   "id": "9bfea982-eaae-4be1-a97a-64b49fe7acdc",
   "metadata": {},
   "outputs": [
    {
     "data": {
      "text/plain": [
       "(1, 256, 208, 256, 3)"
      ]
     },
     "execution_count": 20,
     "metadata": {},
     "output_type": "execute_result"
    }
   ],
   "source": [
    "disp_npy.shape"
   ]
  },
  {
   "cell_type": "code",
   "execution_count": 27,
   "id": "edb8dec5-3aef-4dc0-a770-76c205815571",
   "metadata": {},
   "outputs": [
    {
     "name": "stdout",
     "output_type": "stream",
     "text": [
      "torch.Size([1, 2303, 1, 1, 3])\n"
     ]
    }
   ],
   "source": [
    "B,H,W,D = disp_npy.shape[:4]\n",
    "centers = ((H-1)/2, (W-1)/2, (D-1)/2)\n",
    "fix_kpts_centr = fix_kpts - centers # move the origin of coordinate system to the center of image\n",
    "fix_kpts_norm = fix_kpts_centr / np.array(centers) # normalising to [-1,1]\n",
    "fix_kpts_norm = fix_kpts_norm[:, :, [1, 0, 2]] # grid_sample expects the (x,y,z) values. We have (H,W,D). \n",
    "                                               # As far as I know H = y, W = x, D = z. Thus, we need to swap axes.\n",
    "fix_kpts_norm = rearrange(torch.from_numpy(fix_kpts_norm.copy()), 'B N C -> B N 1 1 C').to(torch.float32) # rearrange to the expected grid_sample shape\n",
    "print(fix_kpts_norm.shape)"
   ]
  },
  {
   "cell_type": "code",
   "execution_count": 30,
   "id": "172c7ef1-d9f3-4db2-853c-1fa9d449c23e",
   "metadata": {},
   "outputs": [
    {
     "data": {
      "text/plain": [
       "torch.Size([1, 3, 256, 256, 208])"
      ]
     },
     "execution_count": 30,
     "metadata": {},
     "output_type": "execute_result"
    }
   ],
   "source": [
    "disp_torch = rearrange(torch.from_numpy(disp_npy), 'B H W D C -> B C D H W').to(torch.float32)\n",
    "disp_torch.shape"
   ]
  },
  {
   "cell_type": "code",
   "execution_count": 31,
   "id": "6337c237-e609-44f6-b244-23e415cb5bad",
   "metadata": {},
   "outputs": [],
   "source": [
    "torch_disp_at = grid_sample(disp_torch, fix_kpts_norm, mode='bilinear', align_corners=True, padding_mode='border')"
   ]
  },
  {
   "cell_type": "code",
   "execution_count": 32,
   "id": "eb5eefb0-91fb-4af4-bdc9-65e44b8b8620",
   "metadata": {},
   "outputs": [],
   "source": [
    "torch_disp_at = rearrange(torch_disp_at, 'B C N 1 1 -> B N C')"
   ]
  },
  {
   "cell_type": "code",
   "execution_count": 33,
   "id": "62c31deb-28b3-4ab6-a489-20ef721eef60",
   "metadata": {},
   "outputs": [
    {
     "name": "stdout",
     "output_type": "stream",
     "text": [
      "True\n"
     ]
    }
   ],
   "source": [
    "disp_kpts_torch_warped = fix_kpts + torch_disp_at.numpy()\n",
    "\n",
    "print(np.allclose(disp_kpts_torch_warped, mov_kpts, rtol=0.1, atol=0.1))"
   ]
  },
  {
   "cell_type": "code",
   "execution_count": null,
   "id": "13126535-a4bb-463b-bee7-31563f97ccae",
   "metadata": {},
   "outputs": [],
   "source": []
  }
 ],
 "metadata": {
  "kernelspec": {
   "display_name": "Python 3 (ipykernel)",
   "language": "python",
   "name": "python3"
  },
  "language_info": {
   "codemirror_mode": {
    "name": "ipython",
    "version": 3
   },
   "file_extension": ".py",
   "mimetype": "text/x-python",
   "name": "python",
   "nbconvert_exporter": "python",
   "pygments_lexer": "ipython3",
   "version": "3.9.20"
  }
 },
 "nbformat": 4,
 "nbformat_minor": 5
}
