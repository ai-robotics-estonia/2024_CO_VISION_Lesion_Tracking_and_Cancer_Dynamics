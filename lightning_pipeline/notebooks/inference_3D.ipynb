{
 "cells": [
  {
   "cell_type": "code",
   "execution_count": null,
   "metadata": {},
   "outputs": [],
   "source": [
    "%cd /gpfs/space/home/danylobo/bm-ai-pipelines/common/ocs/lightning_pipeline  "
   ]
  },
  {
   "cell_type": "code",
   "execution_count": null,
   "metadata": {},
   "outputs": [],
   "source": [
    "import cv2\n",
    "import torch\n",
    "import numpy as np \n",
    "from tqdm import tqdm\n",
    "import torchmetrics\n",
    "from inference_utils import predict_frame, get_model, draw_contours_from_mask, imshow\n",
    "from pathlib import Path\n",
    "from dataset.dataset import OneclickDataset\n",
    "\n",
    "import matplotlib.pyplot as plt\n",
    "plt.rcParams['figure.dpi'] = 150\n",
    "plt.show()\n",
    "\n",
    "%load_ext autoreload\n",
    "%autoreload 2"
   ]
  },
  {
   "cell_type": "code",
   "execution_count": null,
   "metadata": {},
   "outputs": [],
   "source": [
    "ndim = 3\n",
    "\n",
    "version = 2\n",
    "ckpt_dir = Path(f\"lightning_logs/3D-segm/version_{version}/checkpoints\")\n",
    "ckpt_path = list(ckpt_dir.iterdir())[0]\n",
    "\n",
    "device = torch.device('cuda:0')"
   ]
  },
  {
   "cell_type": "code",
   "execution_count": null,
   "metadata": {},
   "outputs": [],
   "source": [
    "# val set:\n",
    "img_dir = Path(\"/gpfs/space/projects/BetterMedicine/danylo/lung/training/raw/3D-LIDC_thin_CropPad_consensus1_centered/Ts/images\")\n",
    "# test set:\n",
    "img_dir = Path(\"/gpfs/space/projects/BetterMedicine/danylo/lung/training/raw/3D_201_redbrick/images\")\n",
    "\n",
    "\n",
    "dst_dir = Path(\"predictions/test_set_201_119\")\n",
    "dst_dir.mkdir(parents=True, exist_ok=True)"
   ]
  },
  {
   "cell_type": "code",
   "execution_count": null,
   "metadata": {},
   "outputs": [],
   "source": [
    "model = get_model(ckpt_path)"
   ]
  },
  {
   "cell_type": "code",
   "execution_count": null,
   "metadata": {},
   "outputs": [],
   "source": [
    "val_files = img_dir.rglob(\"*npy\")\n",
    "val_files = [str(filepath) for filepath in val_files]\n",
    "\n",
    "add_input = {'point_prompt': 2,\n",
    "             'prob_random_pair': 0.,\n",
    "             'prob_jitter': 0.}"
   ]
  },
  {
   "cell_type": "code",
   "execution_count": null,
   "metadata": {},
   "outputs": [],
   "source": [
    "dataset = OneclickDataset(files=val_files,\n",
    "                          ndim=ndim,\n",
    "                          mode=\"test\",\n",
    "                          add_input=add_input)\n",
    "\n",
    "val_dice = torchmetrics.Dice()\n",
    "\n",
    "for img_tensor, mask_tensor in tqdm(dataset):\n",
    "    img_tensor = img_tensor.unsqueeze(0).to(device=device)\n",
    "\n",
    "    pred = predict_frame(model=model, img_tensor=img_tensor, ndim=ndim)\n",
    "\n",
    "    \n",
    "    img = img_tensor.squeeze().detach().cpu().numpy()\n",
    "    gt = mask_tensor.squeeze().detach().cpu().numpy()\n",
    "\n",
    "    for img_slice, pred_slice, gt_slice in zip(img, pred, gt):\n",
    "        if (np.sum(pred_slice > 0.5) + np.sum(gt_slice > 0.5)) == 0:\n",
    "            continue\n",
    "\n",
    "        val_dice.update(torch.tensor(pred_slice), torch.tensor(gt_slice).to(torch.int8))\n",
    "\n",
    "        \n",
    "        # # Uncomment to visualize\n",
    "        # img_slice = 255 * cv2.cvtColor(0.226 * img_slice + 0.449, cv2.COLOR_GRAY2RGB)\n",
    "        # img_slice = np.clip(img_slice, 0, 255).astype(np.uint8)\n",
    "\n",
    "        # img_pred = draw_contours_from_mask(img_slice, pred_slice, [255, 20, 147])\n",
    "        # img_gt   = draw_contours_from_mask(img_slice, gt_slice, [0, 255, 102])\n",
    "\n",
    "        # # separators\n",
    "        # img_pred[:, 0] = 255\n",
    "        # img_gt[:, 0] = 255\n",
    "\n",
    "        # img_stacked = np.hstack([img_slice, img_pred, img_gt])\n",
    "        # imshow(img_stacked)\n",
    "\n",
    "val_dice_mean = val_dice.compute()\n",
    "val_dice.reset()\n",
    "print(\"Dice =\", val_dice_mean)"
   ]
  }
 ],
 "metadata": {
  "kernelspec": {
   "display_name": "Python 3 (ipykernel)",
   "language": "python",
   "name": "python3"
  },
  "language_info": {
   "codemirror_mode": {
    "name": "ipython",
    "version": 3
   },
   "file_extension": ".py",
   "mimetype": "text/x-python",
   "name": "python",
   "nbconvert_exporter": "python",
   "pygments_lexer": "ipython3",
   "version": "3.9.17"
  },
  "orig_nbformat": 4
 },
 "nbformat": 4,
 "nbformat_minor": 2
}
