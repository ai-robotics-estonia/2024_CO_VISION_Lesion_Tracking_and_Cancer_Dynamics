{
 "cells": [
  {
   "cell_type": "code",
   "execution_count": 1,
   "metadata": {},
   "outputs": [
    {
     "name": "stdout",
     "output_type": "stream",
     "text": [
      "/gpfs/space/home/danylobo/bm-ai-pipelines/common/ocs/lightning_pipeline\n"
     ]
    }
   ],
   "source": [
    "%cd /gpfs/space/home/danylobo/bm-ai-pipelines/common/ocs/lightning_pipeline"
   ]
  },
  {
   "cell_type": "code",
   "execution_count": 2,
   "metadata": {},
   "outputs": [],
   "source": [
    "from pathlib import Path\n",
    "from pprint import pprint\n",
    "from inference_3D_detector import InferenceDetector3D\n",
    "\n",
    "%load_ext autoreload\n",
    "%autoreload 2"
   ]
  },
  {
   "cell_type": "code",
   "execution_count": 3,
   "metadata": {},
   "outputs": [],
   "source": [
    "logs_dir = Path('/gpfs/space/projects/BetterMedicine/danylo/shared/lightning_logs/retinanet-monai-phase2/version_22')\n",
    "\n",
    "model_path = logs_dir / 'checkpoints/epoch=209-val_metric=0.578.pt'\n",
    "config_path = logs_dir / 'hparams.yaml'\n",
    "\n",
    "scan_path = Path('/gpfs/space/projects/BetterMedicine/kseniia/NLST/NLST_canc_more_findings/nifti/203204/yr1_Philips_C_2-0_174.nii.gz')\n"
   ]
  },
  {
   "cell_type": "code",
   "execution_count": 4,
   "metadata": {},
   "outputs": [],
   "source": [
    "inferer = InferenceDetector3D(\n",
    "    model_path=model_path,\n",
    "    config_path=config_path,\n",
    "    spacing_infer=[0.75, 0.75, 0.75],\n",
    "    confidence_thr=0.9, \n",
    "    size_thr=3.0)"
   ]
  },
  {
   "cell_type": "code",
   "execution_count": 5,
   "metadata": {},
   "outputs": [
    {
     "name": "stdout",
     "output_type": "stream",
     "text": [
      "Resampling volume to spacing: [0.75, 0.75, 0.75]\n"
     ]
    },
    {
     "name": "stderr",
     "output_type": "stream",
     "text": [
      "/gpfs/space/home/danylobo/.conda/envs/ocs-lightning/lib/python3.9/site-packages/monai/utils/deprecate_utils.py:321: FutureWarning: monai.transforms.io.dictionary LoadImaged.__init__:image_only: Current default value of argument `image_only=False` has been deprecated since version 1.1. It will be changed to `image_only=True` in version 1.3.\n",
      "  warn_deprecated(argname, msg, warning_category)\n"
     ]
    },
    {
     "name": "stdout",
     "output_type": "stream",
     "text": [
      "Running inference...\n",
      "Number of predicted nodules: 11\n",
      "JSON with results is saved to: /gpfs/space/home/danylobo/bm-ai-pipelines/common/ocs/lightning_pipeline/predictions/predictions.json\n",
      "Predictions visualisations are saved to: /gpfs/space/home/danylobo/bm-ai-pipelines/common/ocs/lightning_pipeline/predictions/predict_vis\n"
     ]
    }
   ],
   "source": [
    "result = inferer(scan_path)"
   ]
  },
  {
   "cell_type": "code",
   "execution_count": 6,
   "metadata": {},
   "outputs": [
    {
     "name": "stdout",
     "output_type": "stream",
     "text": [
      "{'box': [[349, 144, 83, 360, 154, 85],\n",
      "         [393, 322, 88, 402, 331, 90],\n",
      "         [143, 170, 118, 149, 176, 119],\n",
      "         [102, 293, 76, 108, 299, 78],\n",
      "         [142, 326, 82, 148, 332, 84],\n",
      "         [146, 342, 69, 158, 354, 72],\n",
      "         [103, 299, 70, 109, 306, 71],\n",
      "         [195, 310, 75, 200, 315, 76],\n",
      "         [141, 299, 116, 147, 305, 117],\n",
      "         [227, 162, 97, 232, 166, 98],\n",
      "         [344, 275, 121, 354, 280, 124]],\n",
      " 'label': [0, 0, 0, 0, 0, 0, 0, 0, 0, 0, 0],\n",
      " 'label_scores': [0.984375,\n",
      "                  0.98046875,\n",
      "                  0.97998046875,\n",
      "                  0.9775390625,\n",
      "                  0.974609375,\n",
      "                  0.94970703125,\n",
      "                  0.94775390625,\n",
      "                  0.93798828125,\n",
      "                  0.93017578125,\n",
      "                  0.91259765625,\n",
      "                  0.9072265625]}\n"
     ]
    }
   ],
   "source": [
    "pprint(result)"
   ]
  }
 ],
 "metadata": {
  "kernelspec": {
   "display_name": "Python 3 (ipykernel)",
   "language": "python",
   "name": "python3"
  },
  "language_info": {
   "codemirror_mode": {
    "name": "ipython",
    "version": 3
   },
   "file_extension": ".py",
   "mimetype": "text/x-python",
   "name": "python",
   "nbconvert_exporter": "python",
   "pygments_lexer": "ipython3",
   "version": "3.9.17"
  }
 },
 "nbformat": 4,
 "nbformat_minor": 2
}
